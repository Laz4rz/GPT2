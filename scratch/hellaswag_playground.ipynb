{
 "cells": [
  {
   "cell_type": "code",
   "execution_count": 14,
   "metadata": {},
   "outputs": [
    {
     "name": "stdout",
     "output_type": "stream",
     "text": [
      "{'ind': 24, 'activity_label': 'Roof shingle removal', 'ctx_a': 'A man is sitting on a roof.', 'ctx_b': 'he', 'ctx': 'A man is sitting on a roof. he', 'split': 'val', 'split_type': 'indomain', 'label': 3, 'endings': ['is using wrap to wrap a pair of skis.', 'is ripping level tiles off.', \"is holding a rubik's cube.\", 'starts pulling up roofing on a roof.'], 'source_id': 'activitynet~v_-JhWjGDPHMY'}\n"
     ]
    }
   ],
   "source": [
    "import sys\n",
    "import matplotlib.pyplot as plt\n",
    "import numpy as np\n",
    "sys.path.insert(0, \"../\")\n",
    "from hellaswag import download, render_example, iterate_examples\n",
    "\n",
    "hs = iterate_examples(\"val\") \n",
    "example = next(hs)\n",
    "print(example)"
   ]
  },
  {
   "cell_type": "code",
   "execution_count": 9,
   "metadata": {},
   "outputs": [
    {
     "data": {
      "text/plain": [
       "({'label': 3,\n",
       "  'ctx_tokens': [32, 582, 318, 5586, 319, 257, 9753, 13, 339],\n",
       "  'ending_tokens': [[318,\n",
       "    1262,\n",
       "    14441,\n",
       "    284,\n",
       "    14441,\n",
       "    257,\n",
       "    5166,\n",
       "    286,\n",
       "    1341,\n",
       "    271,\n",
       "    13],\n",
       "   [318, 34759, 1241, 19867, 572, 13],\n",
       "   [318, 4769, 257, 6437, 1134, 338, 23441, 13],\n",
       "   [4940, 10427, 510, 9753, 278, 319, 257, 9753, 13]]},\n",
       " tensor([[   32,   582,   318,  5586,   319,   257,  9753,    13,   339,   318,\n",
       "           1262, 14441,   284, 14441,   257,  5166,   286,  1341,   271,    13],\n",
       "         [   32,   582,   318,  5586,   319,   257,  9753,    13,   339,   318,\n",
       "          34759,  1241, 19867,   572,    13,     0,     0,     0,     0,     0],\n",
       "         [   32,   582,   318,  5586,   319,   257,  9753,    13,   339,   318,\n",
       "           4769,   257,  6437,  1134,   338, 23441,    13,     0,     0,     0],\n",
       "         [   32,   582,   318,  5586,   319,   257,  9753,    13,   339,  4940,\n",
       "          10427,   510,  9753,   278,   319,   257,  9753,    13,     0,     0]]),\n",
       " tensor([[0, 0, 0, 0, 0, 0, 0, 0, 0, 1, 1, 1, 1, 1, 1, 1, 1, 1, 1, 1],\n",
       "         [0, 0, 0, 0, 0, 0, 0, 0, 0, 1, 1, 1, 1, 1, 1, 0, 0, 0, 0, 0],\n",
       "         [0, 0, 0, 0, 0, 0, 0, 0, 0, 1, 1, 1, 1, 1, 1, 1, 1, 0, 0, 0],\n",
       "         [0, 0, 0, 0, 0, 0, 0, 0, 0, 1, 1, 1, 1, 1, 1, 1, 1, 1, 0, 0]]),\n",
       " 3)"
      ]
     },
     "execution_count": 9,
     "metadata": {},
     "output_type": "execute_result"
    }
   ],
   "source": [
    "rendered = render_example(example)\n",
    "rendered"
   ]
  },
  {
   "cell_type": "code",
   "execution_count": 20,
   "metadata": {},
   "outputs": [
    {
     "data": {
      "image/png": "[encoded data removed]",
      "text/plain": [
       "<Figure size 640x480 with 1 Axes>"
      ]
     },
     "metadata": {},
     "output_type": "display_data"
    }
   ],
   "source": [
    "plt.imshow(rendered[-2])\n",
    "plt.xticks(np.arange(0, rendered[-2].size(1), 1))\n",
    "plt.grid()"
   ]
  },
  {
   "cell_type": "code",
   "execution_count": 21,
   "metadata": {},
   "outputs": [
    {
     "name": "stdout",
     "output_type": "stream",
     "text": [
      "Loading gpt2 model weights from transformers\n"
     ]
    }
   ],
   "source": [
    "from gpt2 import GPT\n",
    "from torch.nn import functional as F\n",
    "\n",
    "model = GPT.from_pretrained(\"gpt2\")"
   ]
  },
  {
   "cell_type": "code",
   "execution_count": 69,
   "metadata": {},
   "outputs": [
    {
     "name": "stdout",
     "output_type": "stream",
     "text": [
      "\n",
      "\n",
      "\n",
      "\n",
      "0. tokens:\n",
      " torch.Size([4, 20])\n",
      "\n",
      "\n",
      "\n",
      "\n",
      "1. Logits:\n",
      " torch.Size([4, 20, 50257])\n",
      "sentences * tokens * vocab\n",
      "tensor([[[ -33.5706,  -32.7689,  -35.4510,  ...,  -40.9807,  -40.1867,\n",
      "           -33.2153],\n",
      "         [-105.0330, -103.2583, -110.3991,  ..., -111.8692, -104.8637,\n",
      "          -105.6672],\n",
      "         [-119.8807, -117.7583, -123.3105,  ..., -127.7225, -120.2321,\n",
      "          -120.7401],\n",
      "         ...,\n",
      "         [ -98.9866,  -95.4444,  -97.4640,  ..., -108.0764, -107.3866,\n",
      "          -100.0664],\n",
      "         [-128.3072, -128.1642, -132.5630,  ..., -141.1546, -139.0250,\n",
      "          -128.6488],\n",
      "         [-108.6667, -107.1693, -107.7597,  ..., -113.0093, -113.0028,\n",
      "          -103.4984]],\n",
      "\n",
      "        [[ -33.5706,  -32.7689,  -35.4510,  ...,  -40.9807,  -40.1867,\n",
      "           -33.2153],\n",
      "         [-105.0330, -103.2583, -110.3991,  ..., -111.8692, -104.8637,\n",
      "          -105.6672],\n",
      "         [-119.8807, -117.7583, -123.3105,  ..., -127.7225, -120.2321,\n",
      "          -120.7401],\n",
      "         ...,\n",
      "         [ -81.1260,  -85.5751,  -84.7267,  ...,  -95.5109,  -93.9703,\n",
      "           -84.2436],\n",
      "         [ -75.6481,  -80.6936,  -79.9605,  ...,  -90.5047,  -89.4759,\n",
      "           -79.6117],\n",
      "         [ -70.4409,  -76.0205,  -75.1695,  ...,  -85.7483,  -85.0923,\n",
      "           -75.0535]],\n",
      "\n",
      "        [[ -33.5706,  -32.7689,  -35.4510,  ...,  -40.9807,  -40.1867,\n",
      "           -33.2153],\n",
      "         [-105.0330, -103.2583, -110.3991,  ..., -111.8692, -104.8637,\n",
      "          -105.6672],\n",
      "         [-119.8807, -117.7583, -123.3105,  ..., -127.7225, -120.2321,\n",
      "          -120.7401],\n",
      "         ...,\n",
      "         [-103.5758, -104.5897, -103.9381,  ..., -113.1633, -109.9642,\n",
      "          -102.4687],\n",
      "         [ -92.4719,  -95.6433,  -94.8487,  ..., -105.7557, -102.0913,\n",
      "           -94.0967],\n",
      "         [ -86.1454,  -90.1905,  -89.6241,  ..., -100.0780,  -97.1400,\n",
      "           -88.8879]],\n",
      "\n",
      "        [[ -33.5706,  -32.7689,  -35.4510,  ...,  -40.9807,  -40.1867,\n",
      "           -33.2153],\n",
      "         [-105.0330, -103.2583, -110.3991,  ..., -111.8692, -104.8637,\n",
      "          -105.6672],\n",
      "         [-119.8807, -117.7583, -123.3105,  ..., -127.7225, -120.2321,\n",
      "          -120.7401],\n",
      "         ...,\n",
      "         [-107.3501, -106.5545, -107.0908,  ..., -113.0025, -111.9331,\n",
      "          -102.7872],\n",
      "         [-101.7971, -103.1369, -102.5732,  ..., -112.5466, -109.8921,\n",
      "          -101.0919],\n",
      "         [ -89.9524,  -92.9929,  -92.5344,  ..., -104.0673, -100.7157,\n",
      "           -91.5778]]], grad_fn=<UnsafeViewBackward0>)\n",
      "\n",
      "\n",
      "\n",
      "\n",
      "2. Shift Logits:\n",
      " torch.Size([4, 19, 50257])\n",
      "tensor([[[ -33.5706,  -32.7689,  -35.4510,  ...,  -40.9807,  -40.1867,\n",
      "           -33.2153],\n",
      "         [-105.0330, -103.2583, -110.3991,  ..., -111.8692, -104.8637,\n",
      "          -105.6672],\n",
      "         [-119.8807, -117.7583, -123.3105,  ..., -127.7225, -120.2321,\n",
      "          -120.7401],\n",
      "         ...,\n",
      "         [ -98.9866,  -95.4444,  -97.4640,  ..., -108.0764, -107.3866,\n",
      "          -100.0664],\n",
      "         [-128.3072, -128.1642, -132.5630,  ..., -141.1546, -139.0250,\n",
      "          -128.6488],\n",
      "         [-108.6667, -107.1693, -107.7597,  ..., -113.0093, -113.0028,\n",
      "          -103.4984]],\n",
      "\n",
      "        [[ -33.5706,  -32.7689,  -35.4510,  ...,  -40.9807,  -40.1867,\n",
      "           -33.2153],\n",
      "         [-105.0330, -103.2583, -110.3991,  ..., -111.8692, -104.8637,\n",
      "          -105.6672],\n",
      "         [-119.8807, -117.7583, -123.3105,  ..., -127.7225, -120.2321,\n",
      "          -120.7401],\n",
      "         ...,\n",
      "         [ -81.1260,  -85.5751,  -84.7267,  ...,  -95.5109,  -93.9703,\n",
      "           -84.2436],\n",
      "         [ -75.6481,  -80.6936,  -79.9605,  ...,  -90.5047,  -89.4759,\n",
      "           -79.6117],\n",
      "         [ -70.4409,  -76.0205,  -75.1695,  ...,  -85.7483,  -85.0923,\n",
      "           -75.0535]],\n",
      "\n",
      "        [[ -33.5706,  -32.7689,  -35.4510,  ...,  -40.9807,  -40.1867,\n",
      "           -33.2153],\n",
      "         [-105.0330, -103.2583, -110.3991,  ..., -111.8692, -104.8637,\n",
      "          -105.6672],\n",
      "         [-119.8807, -117.7583, -123.3105,  ..., -127.7225, -120.2321,\n",
      "          -120.7401],\n",
      "         ...,\n",
      "         [-103.5758, -104.5897, -103.9381,  ..., -113.1633, -109.9642,\n",
      "          -102.4687],\n",
      "         [ -92.4719,  -95.6433,  -94.8487,  ..., -105.7557, -102.0913,\n",
      "           -94.0967],\n",
      "         [ -86.1454,  -90.1905,  -89.6241,  ..., -100.0780,  -97.1400,\n",
      "           -88.8879]],\n",
      "\n",
      "        [[ -33.5706,  -32.7689,  -35.4510,  ...,  -40.9807,  -40.1867,\n",
      "           -33.2153],\n",
      "         [-105.0330, -103.2583, -110.3991,  ..., -111.8692, -104.8637,\n",
      "          -105.6672],\n",
      "         [-119.8807, -117.7583, -123.3105,  ..., -127.7225, -120.2321,\n",
      "          -120.7401],\n",
      "         ...,\n",
      "         [-107.3501, -106.5545, -107.0908,  ..., -113.0025, -111.9331,\n",
      "          -102.7872],\n",
      "         [-101.7971, -103.1369, -102.5732,  ..., -112.5466, -109.8921,\n",
      "          -101.0919],\n",
      "         [ -89.9524,  -92.9929,  -92.5344,  ..., -104.0673, -100.7157,\n",
      "           -91.5778]]], grad_fn=<UnsafeViewBackward0>)\n",
      "\n",
      "\n",
      "\n",
      "\n",
      "3. Shift Tokens:\n",
      " torch.Size([4, 19])\n",
      "tensor([[  582,   318,  5586,   319,   257,  9753,    13,   339,   318,  1262,\n",
      "         14441,   284, 14441,   257,  5166,   286,  1341,   271,    13],\n",
      "        [  582,   318,  5586,   319,   257,  9753,    13,   339,   318, 34759,\n",
      "          1241, 19867,   572,    13,     0,     0,     0,     0,     0],\n",
      "        [  582,   318,  5586,   319,   257,  9753,    13,   339,   318,  4769,\n",
      "           257,  6437,  1134,   338, 23441,    13,     0,     0,     0],\n",
      "        [  582,   318,  5586,   319,   257,  9753,    13,   339,  4940, 10427,\n",
      "           510,  9753,   278,   319,   257,  9753,    13,     0,     0]])\n",
      "is contiguous? True\n",
      "1 acc_norm: 0/1=0.0000\n",
      "---\n",
      "Context:\n",
      " A man is sitting on a roof. he\n",
      "Endings:\n",
      "0 (loss: 3.9474) is using wrap to wrap a pair of skis.\n",
      "1 (loss: 5.7732) is ripping level tiles off.\n",
      "2 (loss: 2.9486) is holding a rubik's cube.\n",
      "3 (loss: 4.0702) starts pulling up roofing on a roof.\n",
      "predicted: 2, actual: 3\n"
     ]
    }
   ],
   "source": [
    "num_correct_norm = 0\n",
    "num_correct = 0\n",
    "num_total = 0\n",
    "\n",
    "data, tokens, mask, label = rendered\n",
    "\n",
    "print(\"\\n\\n\\n\\n0. tokens:\\n\", tokens.shape)\n",
    "\n",
    "# get the logits\n",
    "logits, loss = model(tokens)\n",
    "print(\"\\n\\n\\n\\n1. Logits:\\n\", logits.shape)\n",
    "print(\"sentences * tokens * vocab\")\n",
    "print(logits)\n",
    "\n",
    "# evaluate the autoregressive loss at all positions\n",
    "# model does not output the logits for the first token, it is treated as the holy ground truth\n",
    "# so we have to cut the first token -- its got not corresponding logits (cause we are not getting logits for the \"empty start most probable token\")\n",
    "# and we have to cut the last token -- we dont care about further tokens, only want to evaluate loss for the ones given\n",
    "# contiguous() is used to ensure that the memory is laid out in a contiguous block, it returns a copy if tensor is not contiguous or self otherwise\n",
    "#   ways to check if copy: original.data_ptr() == contiguous.data_ptr() or id(original) == id(contiguous)\n",
    "shift_logits = (logits[:, :-1, :]).contiguous()\n",
    "print(\"\\n\\n\\n\\n2. Shift Logits:\\n\", shift_logits.shape)\n",
    "print(logits)\n",
    "\n",
    "shift_tokens = (tokens[:, 1:]).contiguous()\n",
    "print(\"\\n\\n\\n\\n3. Shift Tokens:\\n\", shift_tokens.shape)\n",
    "print(shift_tokens)\n",
    "\n",
    "# now we have to compute the loss with respect to shift_logits\n",
    "flat_shift_logits = shift_logits.view(-1, shift_logits.size(-1))\n",
    "flat_shift_tokens = shift_tokens.view(-1)\n",
    "shift_losses = F.cross_entropy(flat_shift_logits, flat_shift_tokens, reduction='none')\n",
    "shift_losses = shift_losses.view(tokens.size(0), -1)\n",
    "print(\"is contiguous?\", shift_losses.is_contiguous())\n",
    "# now get the average loss just for the completion region (where mask == 1), in each row\n",
    "shift_mask = (mask[..., 1:]).contiguous() # we must shift mask, so we start at the last prompt token\n",
    "masked_shift_losses = shift_losses * shift_mask\n",
    "# sum and divide by the number of 1s in the mask\n",
    "sum_loss = masked_shift_losses.sum(dim=1)\n",
    "avg_loss = sum_loss / shift_mask.sum(dim=1)\n",
    "# now we have a loss for each of the 4 completions\n",
    "# the one with the lowest loss should be the most likely\n",
    "pred = sum_loss.argmin().item()\n",
    "pred_norm = avg_loss.argmin().item()\n",
    "\n",
    "# accumulate stats\n",
    "num_total += 1\n",
    "num_correct += int(pred == label)\n",
    "num_correct_norm += int(pred_norm == label)\n",
    "print(f\"{num_total} acc_norm: {num_correct_norm}/{num_total}={num_correct_norm/num_total:.4f}\")\n",
    "\n",
    "# debug: pretty print a few examples, and the losses in each case\n",
    "if num_total < 10:\n",
    "    print(\"---\")\n",
    "    print(f\"Context:\\n {example['ctx']}\")\n",
    "    print(f\"Endings:\")\n",
    "    for i, end in enumerate(example[\"endings\"]):\n",
    "        print(f\"{i} (loss: {avg_loss[i].item():.4f}) {end}\")\n",
    "    print(f\"predicted: {pred_norm}, actual: {label}\")"
   ]
  },
  {
   "cell_type": "code",
   "execution_count": 63,
   "metadata": {},
   "outputs": [
    {
     "name": "stdout",
     "output_type": "stream",
     "text": [
      "torch.Size([4, 19, 50257])\n",
      "torch.Size([76, 50257])\n"
     ]
    }
   ],
   "source": [
    "og = shift_logits\n",
    "print(og.shape)\n",
    "ex = shift_logits.view(-1, shift_logits.size(-1))\n",
    "print(ex.shape)"
   ]
  },
  {
   "cell_type": "code",
   "execution_count": 45,
   "metadata": {},
   "outputs": [
    {
     "data": {
      "text/plain": [
       "'A man is sitting on a roof. he is using wrap to wrap a pair of skis.'"
      ]
     },
     "execution_count": 45,
     "metadata": {},
     "output_type": "execute_result"
    }
   ],
   "source": [
    "import tiktoken\n",
    "\n",
    "enc = tiktoken.get_encoding(\"gpt2\")\n",
    "\n",
    "enc.decode(tokens[0].tolist())"
   ]
  },
  {
   "cell_type": "code",
   "execution_count": 57,
   "metadata": {},
   "outputs": [
    {
     "name": "stdout",
     "output_type": "stream",
     "text": [
      "[32]\n"
     ]
    },
    {
     "data": {
      "text/plain": [
       "(tensor([[[ -33.5706,  -32.7689,  -35.4510,  ...,  -40.9807,  -40.1867,\n",
       "            -33.2153],\n",
       "          [-105.0330, -103.2583, -110.3991,  ..., -111.8692, -104.8637,\n",
       "           -105.6672],\n",
       "          [-119.8807, -117.7583, -123.3105,  ..., -127.7225, -120.2321,\n",
       "           -120.7401],\n",
       "          ...,\n",
       "          [ -98.9866,  -95.4444,  -97.4640,  ..., -108.0764, -107.3866,\n",
       "           -100.0664],\n",
       "          [-128.3072, -128.1642, -132.5630,  ..., -141.1546, -139.0250,\n",
       "           -128.6488],\n",
       "          [-108.6667, -107.1693, -107.7597,  ..., -113.0093, -113.0028,\n",
       "           -103.4984]]], grad_fn=<UnsafeViewBackward0>),\n",
       " None)"
      ]
     },
     "execution_count": 57,
     "metadata": {},
     "output_type": "execute_result"
    }
   ],
   "source": [
    "print(enc.encode(\"A\"))\n",
    "model(tokens[0:1])"
   ]
  },
  {
   "cell_type": "code",
   "execution_count": 65,
   "metadata": {},
   "outputs": [
    {
     "data": {
      "text/plain": [
       "torch.Size([4, 19])"
      ]
     },
     "execution_count": 65,
     "metadata": {},
     "output_type": "execute_result"
    }
   ],
   "source": [
    "shift_losses.shape"
   ]
  },
  {
   "cell_type": "code",
   "execution_count": 68,
   "metadata": {},
   "outputs": [
    {
     "name": "stdout",
     "output_type": "stream",
     "text": [
      "tensor(7.3022, grad_fn=<MulBackward0>)\n",
      "tensor(7.3022, grad_fn=<NllLossBackward0>)\n"
     ]
    }
   ],
   "source": [
    "import torch \n",
    "\n",
    "def cross_entropy(t, target):\n",
    "    return -1 * torch.log(torch.exp(t[target]) / torch.exp(t).sum())\n",
    "\n",
    "print(cross_entropy(shift_logits[0, 0], shift_tokens[0, 0]))\n",
    "\n",
    "print(F.cross_entropy(shift_logits[0, 0].unsqueeze(0), shift_tokens[0, 0].unsqueeze(0)))"
   ]
  },
  {
   "cell_type": "code",
   "execution_count": 75,
   "metadata": {},
   "outputs": [
    {
     "data": {
      "text/plain": [
       "tensor([[[ -33.5706,  -32.7689,  -35.4510,  ...,  -40.9807,  -40.1867,\n",
       "           -33.2153],\n",
       "         [-105.0330, -103.2583, -110.3991,  ..., -111.8692, -104.8637,\n",
       "          -105.6672],\n",
       "         [-119.8807, -117.7583, -123.3105,  ..., -127.7225, -120.2321,\n",
       "          -120.7401],\n",
       "         ...,\n",
       "         [ -98.9866,  -95.4444,  -97.4640,  ..., -108.0764, -107.3866,\n",
       "          -100.0664],\n",
       "         [-128.3072, -128.1642, -132.5630,  ..., -141.1546, -139.0250,\n",
       "          -128.6488],\n",
       "         [-108.6667, -107.1693, -107.7597,  ..., -113.0093, -113.0028,\n",
       "          -103.4984]],\n",
       "\n",
       "        [[ -33.5706,  -32.7689,  -35.4510,  ...,  -40.9807,  -40.1867,\n",
       "           -33.2153],\n",
       "         [-105.0330, -103.2583, -110.3991,  ..., -111.8692, -104.8637,\n",
       "          -105.6672],\n",
       "         [-119.8807, -117.7583, -123.3105,  ..., -127.7225, -120.2321,\n",
       "          -120.7401],\n",
       "         ...,\n",
       "         [ -81.1260,  -85.5751,  -84.7267,  ...,  -95.5109,  -93.9703,\n",
       "           -84.2436],\n",
       "         [ -75.6481,  -80.6936,  -79.9605,  ...,  -90.5047,  -89.4759,\n",
       "           -79.6117],\n",
       "         [ -70.4409,  -76.0205,  -75.1695,  ...,  -85.7483,  -85.0923,\n",
       "           -75.0535]],\n",
       "\n",
       "        [[ -33.5706,  -32.7689,  -35.4510,  ...,  -40.9807,  -40.1867,\n",
       "           -33.2153],\n",
       "         [-105.0330, -103.2583, -110.3991,  ..., -111.8692, -104.8637,\n",
       "          -105.6672],\n",
       "         [-119.8807, -117.7583, -123.3105,  ..., -127.7225, -120.2321,\n",
       "          -120.7401],\n",
       "         ...,\n",
       "         [-103.5758, -104.5897, -103.9381,  ..., -113.1633, -109.9642,\n",
       "          -102.4687],\n",
       "         [ -92.4719,  -95.6433,  -94.8487,  ..., -105.7557, -102.0913,\n",
       "           -94.0967],\n",
       "         [ -86.1454,  -90.1905,  -89.6241,  ..., -100.0780,  -97.1400,\n",
       "           -88.8879]],\n",
       "\n",
       "        [[ -33.5706,  -32.7689,  -35.4510,  ...,  -40.9807,  -40.1867,\n",
       "           -33.2153],\n",
       "         [-105.0330, -103.2583, -110.3991,  ..., -111.8692, -104.8637,\n",
       "          -105.6672],\n",
       "         [-119.8807, -117.7583, -123.3105,  ..., -127.7225, -120.2321,\n",
       "          -120.7401],\n",
       "         ...,\n",
       "         [-107.3501, -106.5545, -107.0908,  ..., -113.0025, -111.9331,\n",
       "          -102.7872],\n",
       "         [-101.7971, -103.1369, -102.5732,  ..., -112.5466, -109.8921,\n",
       "          -101.0919],\n",
       "         [ -89.9524,  -92.9929,  -92.5344,  ..., -104.0673, -100.7157,\n",
       "           -91.5778]]], grad_fn=<UnsafeViewBackward0>)"
      ]
     },
     "execution_count": 75,
     "metadata": {},
     "output_type": "execute_result"
    }
   ],
   "source": [
    "logits"
   ]
  },
  {
   "cell_type": "code",
   "execution_count": 76,
   "metadata": {},
   "outputs": [
    {
     "data": {
      "text/plain": [
       "tensor([[ -33.5706, -105.0330, -119.8807,  ...,  -98.9866, -128.3072,\n",
       "         -108.6667],\n",
       "        [ -32.7689, -103.2583, -117.7583,  ...,  -95.4444, -128.1642,\n",
       "         -107.1693],\n",
       "        [ -35.4510, -110.3991, -123.3105,  ...,  -97.4640, -132.5630,\n",
       "         -107.7597],\n",
       "        ...,\n",
       "        [ -40.9807, -111.8692, -127.7225,  ..., -108.0764, -141.1546,\n",
       "         -113.0093],\n",
       "        [ -40.1867, -104.8637, -120.2321,  ..., -107.3866, -139.0250,\n",
       "         -113.0028],\n",
       "        [ -33.2153, -105.6672, -120.7401,  ..., -100.0664, -128.6488,\n",
       "         -103.4984]], grad_fn=<TransposeBackward0>)"
      ]
     },
     "execution_count": 76,
     "metadata": {},
     "output_type": "execute_result"
    }
   ],
   "source": [
    "logits[0].transpose(1, 0)"
   ]
  },
  {
   "cell_type": "code",
   "execution_count": 83,
   "metadata": {},
   "outputs": [
    {
     "name": "stdout",
     "output_type": "stream",
     "text": [
      "is contiguous? True\n",
      "tensor([[1, 4, 7],\n",
      "        [2, 5, 8],\n",
      "        [3, 6, 9]])\n",
      "tensor([1, 2, 3, 4, 5, 6, 7, 8, 9])\n",
      "is contiguous? False\n",
      "tensor([[1, 4, 7],\n",
      "        [2, 5, 8],\n",
      "        [3, 6, 9]])\n",
      "tensor([1, 2, 3, 4, 5, 6, 7, 8, 9])\n"
     ]
    }
   ],
   "source": [
    "# potential contiguous problems\n",
    "\n",
    "x = torch.tensor([[1, 2, 3], [4, 5, 6], [7, 8, 9]])\n",
    "xt = x.transpose(1, 0).contiguous()\n",
    "print(\"is contiguous?\", xt.is_contiguous())\n",
    "print(xt)\n",
    "\n",
    "y = x.view(-1)\n",
    "print(y)\n",
    "\n",
    "\n",
    "x = torch.tensor([[1, 2, 3], [4, 5, 6], [7, 8, 9]])\n",
    "xt = x.transpose(1, 0)\n",
    "print(\"is contiguous?\", xt.is_contiguous())\n",
    "print(xt)\n",
    "\n",
    "y = x.view(-1)\n",
    "print(y)"
   ]
  },
  {
   "cell_type": "code",
   "execution_count": 87,
   "metadata": {},
   "outputs": [
    {
     "name": "stdout",
     "output_type": "stream",
     "text": [
      "False\n",
      "tensor([[ 1.3367, -0.1229,  1.4617],\n",
      "        [ 1.1288,  0.8137,  1.2674],\n",
      "        [ 1.2345,  3.2082,  1.5349],\n",
      "        [ 1.2303,  0.3620,  1.8094]])\n",
      "True\n",
      "tensor([[ 1.3367, -0.1229,  1.4617],\n",
      "        [ 1.1288,  0.8137,  1.2674],\n",
      "        [ 1.2345,  3.2082,  1.5349],\n",
      "        [ 1.2303,  0.3620,  1.8094]])\n",
      "are they the same?\n",
      " tensor([[True, True, True],\n",
      "        [True, True, True],\n",
      "        [True, True, True],\n",
      "        [True, True, True]])\n"
     ]
    }
   ],
   "source": [
    "# potential contiguous problems\n",
    "\n",
    "torch.manual_seed(42)\n",
    "x1 = torch.randn(3, 4).transpose(0, 1)  # non-contiguous\n",
    "print(x1.is_contiguous())\n",
    "print(x1.add_(1))  # This may not affect all elements as expected\n",
    "\n",
    "torch.manual_seed(42)\n",
    "x2 = torch.randn(3, 4).transpose(0, 1).contiguous()  # contiguous\n",
    "print(x2.is_contiguous())\n",
    "print(x2.add_(1))  # This will affect all elements as expected\n",
    "\n",
    "print(\"are they the same?\\n\", x1 == x2)"
   ]
  },
  {
   "cell_type": "code",
   "execution_count": 88,
   "metadata": {},
   "outputs": [
    {
     "data": {
      "text/plain": [
       "tensor([[0.0000e+00, 0.0000e+00, 0.0000e+00, 0.0000e+00, 0.0000e+00, 0.0000e+00,\n",
       "         0.0000e+00, 0.0000e+00, 1.5087e+00, 5.8585e+00, 1.1923e+01, 2.1637e+00,\n",
       "         2.7706e+00, 2.6047e+00, 5.8061e+00, 1.1112e-02, 7.5943e+00, 1.6238e+00,\n",
       "         1.5568e+00],\n",
       "        [0.0000e+00, 0.0000e+00, 0.0000e+00, 0.0000e+00, 0.0000e+00, 0.0000e+00,\n",
       "         0.0000e+00, 0.0000e+00, 1.5087e+00, 9.2569e+00, 1.4073e+01, 4.3877e+00,\n",
       "         1.3537e+00, 4.0587e+00, 0.0000e+00, 0.0000e+00, 0.0000e+00, 0.0000e+00,\n",
       "         0.0000e+00],\n",
       "        [0.0000e+00, 0.0000e+00, 0.0000e+00, 0.0000e+00, 0.0000e+00, 0.0000e+00,\n",
       "         0.0000e+00, 0.0000e+00, 1.5087e+00, 3.0817e+00, 8.8085e-01, 1.1994e+01,\n",
       "         3.4136e+00, 6.1874e-01, 5.1059e-01, 1.5803e+00, 0.0000e+00, 0.0000e+00,\n",
       "         0.0000e+00],\n",
       "        [0.0000e+00, 0.0000e+00, 0.0000e+00, 0.0000e+00, 0.0000e+00, 0.0000e+00,\n",
       "         0.0000e+00, 0.0000e+00, 5.0368e+00, 4.9301e+00, 3.0012e+00, 9.0537e+00,\n",
       "         4.1260e+00, 3.9609e+00, 2.1955e+00, 2.9106e+00, 1.4165e+00, 0.0000e+00,\n",
       "         0.0000e+00]], grad_fn=<MulBackward0>)"
      ]
     },
     "execution_count": 88,
     "metadata": {},
     "output_type": "execute_result"
    }
   ],
   "source": [
    "masked_shift_losses"
   ]
  },
  {
   "cell_type": "code",
   "execution_count": 89,
   "metadata": {},
   "outputs": [
    {
     "data": {
      "text/plain": [
       "(tensor([43.4218, 34.6391, 23.5885, 36.6314], grad_fn=<SumBackward1>),\n",
       " tensor([3.9474, 5.7732, 2.9486, 4.0702], grad_fn=<DivBackward0>))"
      ]
     },
     "execution_count": 89,
     "metadata": {},
     "output_type": "execute_result"
    }
   ],
   "source": [
    "sum_loss, avg_loss"
   ]
  },
  {
   "cell_type": "code",
   "execution_count": null,
   "metadata": {},
   "outputs": [],
   "source": []
  }
 ],
 "metadata": {
  "kernelspec": {
   "display_name": "gpt",
   "language": "python",
   "name": "python3"
  },
  "language_info": {
   "codemirror_mode": {
    "name": "ipython",
    "version": 3
   },
   "file_extension": ".py",
   "mimetype": "text/x-python",
   "name": "python",
   "nbconvert_exporter": "python",
   "pygments_lexer": "ipython3",
   "version": "3.10.14"
  }
 },
 "nbformat": 4,
 "nbformat_minor": 2
}
